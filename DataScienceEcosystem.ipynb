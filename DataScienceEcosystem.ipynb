{
 "cells": [
  {
   "cell_type": "markdown",
   "id": "085e38ef-fa9b-4bd5-bfef-d32ca3d173d9",
   "metadata": {},
   "source": [
    "# Data Science Tools and Ecosystem using"
   ]
  },
  {
   "cell_type": "markdown",
   "id": "349189af-9168-406b-9bed-cc5e6e52a533",
   "metadata": {},
   "source": [
    "## In This notebook, Data Science Tools and Ecosystem are summarized."
   ]
  },
  {
   "cell_type": "markdown",
   "id": "35825466-d67e-47b6-9e35-65caa4f990ec",
   "metadata": {},
   "source": [
    "### Some of the popular languages that Data Scientists use are:"
   ]
  },
  {
   "cell_type": "markdown",
   "id": "0dd8f33d-54cf-46c4-ad23-70f966453595",
   "metadata": {},
   "source": [
    "1. Python\n",
    "2. R\n",
    "3. Julia\n",
    "4. SQR\n",
    "5. Java\n",
    "6. Scala"
   ]
  },
  {
   "cell_type": "markdown",
   "id": "f67b4796-717f-45e7-9c5e-d2c6c631d371",
   "metadata": {},
   "source": [
    "### Some of the commonly used libraries used by data Scientists include:"
   ]
  },
  {
   "cell_type": "markdown",
   "id": "382872c4-b7e8-4e91-b2d6-67eecf2968e4",
   "metadata": {},
   "source": [
    "1. Pandas\n",
    "2. NumPy\n",
    "3. SciPy\n",
    "4. Scikit-learn\n",
    "5. TensorFlow\n",
    "6. Keras"
   ]
  },
  {
   "cell_type": "markdown",
   "id": "162e8a2f-a6c4-45b9-8c06-69ec716df920",
   "metadata": {},
   "source": [
    "| Data Science Tools|\n",
    "|:------------------|\n",
    "| Juputer Notebook|\n",
    "| Apache Spark|\n",
    "| Scikit-learn|"
   ]
  },
  {
   "cell_type": "markdown",
   "id": "8207ec00-06eb-458a-ab02-33f8ecf5a6fe",
   "metadata": {},
   "source": [
    "### Below are few examples of evaluating arithmetic expressions in Python."
   ]
  },
  {
   "cell_type": "markdown",
   "id": "6fd0963a-7ea9-4162-9115-82335855e879",
   "metadata": {},
   "source": [
    "1. Suma: a + b\n",
    "2. Resta: a - b\n",
    "3. Multiplicación: a * b\n",
    "4. División: a / b\n",
    "5. División entera: a // b\n",
    "6. Módulo (resto): a % b\n",
    "7. Exponente: a ** b"
   ]
  },
  {
   "cell_type": "code",
   "execution_count": 22,
   "id": "9202b679-7eae-4dcd-a393-062c99e0eaa5",
   "metadata": {},
   "outputs": [
    {
     "data": {
      "text/plain": [
       "17"
      ]
     },
     "execution_count": 22,
     "metadata": {},
     "output_type": "execute_result"
    }
   ],
   "source": [
    "# This a simple arithmetic expression to mutiply then add integers\n",
    "(3*4)+5"
   ]
  },
  {
   "cell_type": "code",
   "execution_count": 26,
   "id": "a31676d8-4761-44fc-aafb-709080c73afb",
   "metadata": {},
   "outputs": [
    {
     "data": {
      "text/plain": [
       "3.3333333333333335"
      ]
     },
     "execution_count": 26,
     "metadata": {},
     "output_type": "execute_result"
    }
   ],
   "source": [
    "#This will convert 200 minutes to hours by diving by 60.\n",
    "200/60"
   ]
  },
  {
   "cell_type": "code",
   "execution_count": null,
   "id": "18fc3513-7e8d-4445-a06c-d7cc347fafc6",
   "metadata": {},
   "outputs": [],
   "source": []
  }
 ],
 "metadata": {
  "kernelspec": {
   "display_name": "Python 3 (ipykernel)",
   "language": "python",
   "name": "python3"
  },
  "language_info": {
   "codemirror_mode": {
    "name": "ipython",
    "version": 3
   },
   "file_extension": ".py",
   "mimetype": "text/x-python",
   "name": "python",
   "nbconvert_exporter": "python",
   "pygments_lexer": "ipython3",
   "version": "3.12.4"
  }
 },
 "nbformat": 4,
 "nbformat_minor": 5
}
